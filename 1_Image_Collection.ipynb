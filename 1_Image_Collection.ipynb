{
  "cells": [
    {
      "cell_type": "markdown",
      "metadata": {
        "id": "view-in-github",
        "colab_type": "text"
      },
      "source": [
        "<a href=\"https://colab.research.google.com/github/RonanJanet/TFOD/blob/main/1_Image_Collection.ipynb\" target=\"_parent\"><img src=\"https://colab.research.google.com/assets/colab-badge.svg\" alt=\"Open In Colab\"/></a>"
      ]
    },
    {
      "cell_type": "markdown",
      "metadata": {
        "id": "WsieOCqTswtz"
      },
      "source": [
        "# 1. Import Dependencies"
      ]
    },
    {
      "cell_type": "code",
      "execution_count": null,
      "metadata": {
        "scrolled": true,
        "id": "e1b1J5Xsswt-",
        "outputId": "740d487a-7b4d-4b8f-da87-45b4176105e6"
      },
      "outputs": [
        {
          "name": "stdout",
          "output_type": "stream",
          "text": [
            "Requirement already satisfied: opencv-python in c:\\users\\ronan\\onedrive\\bureau\\projets ml\\tfodcourse\\tfod2\\lib\\site-packages (4.5.5.64)\n",
            "Requirement already satisfied: numpy>=1.17.3 in c:\\users\\ronan\\onedrive\\bureau\\projets ml\\tfodcourse\\tfod2\\lib\\site-packages (from opencv-python) (1.22.3)\n"
          ]
        }
      ],
      "source": [
        "!pip install opencv-python"
      ]
    },
    {
      "cell_type": "code",
      "execution_count": null,
      "metadata": {
        "id": "q-ZNqRqqswuC"
      },
      "outputs": [],
      "source": [
        "# Import opencv\n",
        "import cv2 \n",
        "\n",
        "# Import uuid\n",
        "import uuid\n",
        "\n",
        "# Import Operating System\n",
        "import os\n",
        "\n",
        "# Import time\n",
        "import time"
      ]
    },
    {
      "cell_type": "markdown",
      "metadata": {
        "id": "RlYtVmv0swuE"
      },
      "source": [
        "# 2. Define Images to Collect"
      ]
    },
    {
      "cell_type": "code",
      "execution_count": null,
      "metadata": {
        "id": "JxExFvx9swuG"
      },
      "outputs": [],
      "source": [
        "labels = ['thumbsup', 'thumbsdown', 'thankyou', 'livelong']\n",
        "# labels = ['thumbsup']\n",
        "number_imgs = 5"
      ]
    },
    {
      "cell_type": "markdown",
      "metadata": {
        "id": "-GfBQ-qUswuH"
      },
      "source": [
        "# 3. Setup Folders "
      ]
    },
    {
      "cell_type": "code",
      "execution_count": null,
      "metadata": {
        "id": "2zdQMFnaswuI"
      },
      "outputs": [],
      "source": [
        "IMAGES_PATH = os.path.join('Tensorflow', 'workspace', 'images', 'collectedimages')"
      ]
    },
    {
      "cell_type": "code",
      "execution_count": null,
      "metadata": {
        "id": "bVSN-Xv2swuJ",
        "outputId": "d939bea0-a745-49e3-9e74-e2a8c1ad34f4"
      },
      "outputs": [
        {
          "name": "stdout",
          "output_type": "stream",
          "text": [
            "Tensorflow\\workspace\\images\\collectedimages\n"
          ]
        }
      ],
      "source": [
        "print(IMAGES_PATH)"
      ]
    },
    {
      "cell_type": "code",
      "execution_count": null,
      "metadata": {
        "id": "Tufqno4FswuL"
      },
      "outputs": [],
      "source": [
        "if not os.path.exists(IMAGES_PATH):\n",
        "    if os.name == 'posix':\n",
        "        !mkdir -p {IMAGES_PATH}\n",
        "    if os.name == 'nt':\n",
        "         !mkdir {IMAGES_PATH}\n",
        "for label in labels:\n",
        "    path = os.path.join(IMAGES_PATH, label)\n",
        "    if not os.path.exists(path):\n",
        "        !mkdir {path}"
      ]
    },
    {
      "cell_type": "markdown",
      "metadata": {
        "id": "ZQJ0RI4TswuN"
      },
      "source": [
        "# 4. Capture Images"
      ]
    },
    {
      "cell_type": "code",
      "execution_count": null,
      "metadata": {
        "id": "zFrL18eEswuO",
        "outputId": "50474f6c-a30b-47f7-a8b2-1e88634108e0"
      },
      "outputs": [
        {
          "name": "stdout",
          "output_type": "stream",
          "text": [
            "Collecting images for thumbsup\n",
            "Collecting image 0\n",
            "Collecting image 1\n",
            "Collecting image 2\n",
            "Collecting image 3\n",
            "Collecting image 4\n"
          ]
        }
      ],
      "source": [
        "for label in labels:\n",
        "    cap = cv2.VideoCapture(0)\n",
        "    print('Collecting images for {}'.format(label))\n",
        "    time.sleep(5)\n",
        "    for imgnum in range(number_imgs):\n",
        "        print('Collecting image {}'.format(imgnum))\n",
        "        ret, frame = cap.read()\n",
        "        imgname = os.path.join(IMAGES_PATH,label,label+'.'+'{}.jpg'.format(str(uuid.uuid1())))\n",
        "        cv2.imwrite(imgname, frame)\n",
        "        cv2.imshow('frame', frame)\n",
        "        time.sleep(2)\n",
        "\n",
        "        if cv2.waitKey(1) & 0xFF == ord('q'):\n",
        "            break\n",
        "cap.release()\n",
        "cv2.destroyAllWindows()"
      ]
    },
    {
      "cell_type": "markdown",
      "metadata": {
        "id": "VA07eatsswuQ"
      },
      "source": [
        "# 5. Image Labelling"
      ]
    },
    {
      "cell_type": "code",
      "execution_count": null,
      "metadata": {
        "id": "41QdyvpqswuR",
        "outputId": "3cb40db3-66c6-4edb-b27c-304b3e616247"
      },
      "outputs": [
        {
          "name": "stdout",
          "output_type": "stream",
          "text": [
            "Collecting pyqt5\n",
            "  Using cached PyQt5-5.15.6-cp36-abi3-win_amd64.whl (6.7 MB)\n",
            "Collecting lxml\n",
            "  Using cached lxml-4.8.0-cp39-cp39-win_amd64.whl (3.6 MB)\n",
            "Collecting PyQt5-Qt5>=5.15.2\n",
            "  Using cached PyQt5_Qt5-5.15.2-py3-none-win_amd64.whl (50.1 MB)\n",
            "Collecting PyQt5-sip<13,>=12.8\n",
            "  Using cached PyQt5_sip-12.10.1-cp39-cp39-win_amd64.whl (77 kB)\n",
            "Installing collected packages: PyQt5-Qt5, PyQt5-sip, lxml, pyqt5\n",
            "Successfully installed PyQt5-Qt5-5.15.2 PyQt5-sip-12.10.1 lxml-4.8.0 pyqt5-5.15.6\n"
          ]
        }
      ],
      "source": [
        "!pip install --upgrade pyqt5 lxml"
      ]
    },
    {
      "cell_type": "code",
      "execution_count": null,
      "metadata": {
        "collapsed": true,
        "id": "PzZLZQaQswuS",
        "outputId": "bc0bbf35-a003-4c56-ad3f-b2e1f39726a3"
      },
      "outputs": [
        {
          "name": "stdout",
          "output_type": "stream",
          "text": [
            "Package           Version\n",
            "----------------- --------\n",
            "asttokens         2.0.5\n",
            "backcall          0.2.0\n",
            "colorama          0.4.4\n",
            "debugpy           1.6.0\n",
            "decorator         5.1.1\n",
            "entrypoints       0.4\n",
            "executing         0.8.3\n",
            "ipykernel         6.13.0\n",
            "ipython           8.2.0\n",
            "jedi              0.18.1\n",
            "jupyter-client    7.3.0\n",
            "jupyter-core      4.10.0\n",
            "lxml              4.8.0\n",
            "matplotlib-inline 0.1.3\n",
            "nest-asyncio      1.5.5\n",
            "numpy             1.22.3\n",
            "opencv-python     4.5.5.64\n",
            "packaging         21.3\n",
            "parso             0.8.3\n",
            "pickleshare       0.7.5\n",
            "pip               22.0.4\n",
            "prompt-toolkit    3.0.29\n",
            "psutil            5.9.0\n",
            "pure-eval         0.2.2\n",
            "Pygments          2.12.0\n",
            "pyparsing         3.0.8\n",
            "PyQt5             5.15.6\n",
            "PyQt5-Qt5         5.15.2\n",
            "PyQt5-sip         12.10.1\n",
            "python-dateutil   2.8.2\n",
            "pywin32           303\n",
            "pyzmq             22.3.0\n",
            "setuptools        58.1.0\n",
            "six               1.16.0\n",
            "stack-data        0.2.0\n",
            "tornado           6.1\n",
            "traitlets         5.1.1\n",
            "wcwidth           0.2.5\n"
          ]
        }
      ],
      "source": [
        "!pip list"
      ]
    },
    {
      "cell_type": "code",
      "execution_count": null,
      "metadata": {
        "id": "NrLK4YJmswuT"
      },
      "outputs": [],
      "source": [
        "LABELIMG_PATH = os.path.join('Tensorflow', 'labelimg')"
      ]
    },
    {
      "cell_type": "code",
      "execution_count": null,
      "metadata": {
        "id": "ws_A_AIfswuT",
        "outputId": "eb9a884f-5446-4d1e-8cc5-49d285ad9167"
      },
      "outputs": [
        {
          "name": "stderr",
          "output_type": "stream",
          "text": [
            "Cloning into 'Tensorflow\\labelimg'...\n"
          ]
        }
      ],
      "source": [
        "if not os.path.exists(LABELIMG_PATH):\n",
        "    !mkdir {LABELIMG_PATH}\n",
        "    !git clone https://github.com/tzutalin/labelImg {LABELIMG_PATH}"
      ]
    },
    {
      "cell_type": "code",
      "execution_count": null,
      "metadata": {
        "id": "H5PSz-LBswuU"
      },
      "outputs": [],
      "source": [
        "if os.name == 'posix':\n",
        "    !cd {LABELIMG_PATH} && !make qt5py3\n",
        "if os.name =='nt':\n",
        "    !cd {LABELIMG_PATH} && pyrcc5 -o libs/resources.py resources.qrc"
      ]
    },
    {
      "cell_type": "code",
      "execution_count": null,
      "metadata": {
        "collapsed": true,
        "id": "5BlbZTikswuV",
        "outputId": "841d1ddb-2c91-421c-f14c-a796d772742b"
      },
      "outputs": [
        {
          "name": "stdout",
          "output_type": "stream",
          "text": [
            "Image:C:\\Users\\ronan\\OneDrive\\Bureau\\Projets ML\\TFODCourse\\Tensorflow\\workspace\\images\\collectedimages\\livelong\\livelong.0a4a8b63-c32d-11ec-8ada-c2e8a66ebf81.jpg -> Annotation:C:/Users/ronan/OneDrive/Bureau/Projets ML/TFODCourse/Tensorflow/workspace/images/collectedimages/livelong/livelong.0a4a8b63-c32d-11ec-8ada-c2e8a66ebf81.xml\n",
            "Cancel creation.\n",
            "Cancel creation.\n",
            "Image:C:\\Users\\ronan\\OneDrive\\Bureau\\Projets ML\\TFODCourse\\Tensorflow\\workspace\\images\\collectedimages\\livelong\\livelong.06aa858d-c32d-11ec-8157-c2e8a66ebf81.jpg -> Annotation:C:/Users/ronan/OneDrive/Bureau/Projets ML/TFODCourse/Tensorflow/workspace/images/collectedimages/livelong/livelong.06aa858d-c32d-11ec-8157-c2e8a66ebf81.xml\n",
            "Cancel creation.\n",
            "Cancel creation.\n",
            "Image:C:\\Users\\ronan\\OneDrive\\Bureau\\Projets ML\\TFODCourse\\Tensorflow\\workspace\\images\\collectedimages\\livelong\\livelong.07dfd587-c32d-11ec-ba74-c2e8a66ebf81.jpg -> Annotation:C:/Users/ronan/OneDrive/Bureau/Projets ML/TFODCourse/Tensorflow/workspace/images/collectedimages/livelong/livelong.07dfd587-c32d-11ec-ba74-c2e8a66ebf81.xml\n",
            "Image:C:\\Users\\ronan\\OneDrive\\Bureau\\Projets ML\\TFODCourse\\Tensorflow\\workspace\\images\\collectedimages\\livelong\\livelong.0913dedb-c32d-11ec-8ab0-c2e8a66ebf81.jpg -> Annotation:C:/Users/ronan/OneDrive/Bureau/Projets ML/TFODCourse/Tensorflow/workspace/images/collectedimages/livelong/livelong.0913dedb-c32d-11ec-8ab0-c2e8a66ebf81.xml\n",
            "Image:C:\\Users\\ronan\\OneDrive\\Bureau\\Projets ML\\TFODCourse\\Tensorflow\\workspace\\images\\collectedimages\\livelong\\livelong.47394b50-c32d-11ec-833f-c2e8a66ebf81.jpg -> Annotation:C:/Users/ronan/OneDrive/Bureau/Projets ML/TFODCourse/Tensorflow/workspace/images/collectedimages/livelong/livelong.47394b50-c32d-11ec-833f-c2e8a66ebf81.xml\n",
            "Image:C:\\Users\\ronan\\OneDrive\\Bureau\\Projets ML\\TFODCourse\\Tensorflow\\workspace\\images\\collectedimages\\thankyou\\thankyou.01ac4728-c32d-11ec-aa72-c2e8a66ebf81.jpg -> Annotation:C:/Users/ronan/OneDrive/Bureau/Projets ML/TFODCourse/Tensorflow/workspace/images/collectedimages/thankyou/thankyou.01ac4728-c32d-11ec-aa72-c2e8a66ebf81.xml\n",
            "Image:C:\\Users\\ronan\\OneDrive\\Bureau\\Projets ML\\TFODCourse\\Tensorflow\\workspace\\images\\collectedimages\\thankyou\\thankyou.00760a7d-c32d-11ec-97f1-c2e8a66ebf81.jpg -> Annotation:C:/Users/ronan/OneDrive/Bureau/Projets ML/TFODCourse/Tensorflow/workspace/images/collectedimages/thankyou/thankyou.00760a7d-c32d-11ec-97f1-c2e8a66ebf81.xml\n",
            "Image:C:\\Users\\ronan\\OneDrive\\Bureau\\Projets ML\\TFODCourse\\Tensorflow\\workspace\\images\\collectedimages\\thankyou\\thankyou.fcd7bfc1-c32c-11ec-81fe-c2e8a66ebf81.jpg -> Annotation:C:/Users/ronan/OneDrive/Bureau/Projets ML/TFODCourse/Tensorflow/workspace/images/collectedimages/thankyou/thankyou.fcd7bfc1-c32c-11ec-81fe-c2e8a66ebf81.xml\n",
            "Image:C:\\Users\\ronan\\OneDrive\\Bureau\\Projets ML\\TFODCourse\\Tensorflow\\workspace\\images\\collectedimages\\thankyou\\thankyou.fe0beb66-c32c-11ec-8635-c2e8a66ebf81.jpg -> Annotation:C:/Users/ronan/OneDrive/Bureau/Projets ML/TFODCourse/Tensorflow/workspace/images/collectedimages/thankyou/thankyou.fe0beb66-c32c-11ec-8635-c2e8a66ebf81.xml\n",
            "Image:C:\\Users\\ronan\\OneDrive\\Bureau\\Projets ML\\TFODCourse\\Tensorflow\\workspace\\images\\collectedimages\\thankyou\\thankyou.ff4036f5-c32c-11ec-8fa7-c2e8a66ebf81.jpg -> Annotation:C:/Users/ronan/OneDrive/Bureau/Projets ML/TFODCourse/Tensorflow/workspace/images/collectedimages/thankyou/thankyou.ff4036f5-c32c-11ec-8fa7-c2e8a66ebf81.xml\n",
            "Image:C:\\Users\\ronan\\OneDrive\\Bureau\\Projets ML\\TFODCourse\\Tensorflow\\workspace\\images\\collectedimages\\thumbsdown\\thumbsdown.f6a3a139-c32c-11ec-ae33-c2e8a66ebf81.jpg -> Annotation:C:/Users/ronan/OneDrive/Bureau/Projets ML/TFODCourse/Tensorflow/workspace/images/collectedimages/thumbsdown/thumbsdown.f6a3a139-c32c-11ec-ae33-c2e8a66ebf81.xml\n",
            "Image:C:\\Users\\ronan\\OneDrive\\Bureau\\Projets ML\\TFODCourse\\Tensorflow\\workspace\\images\\collectedimages\\thumbsdown\\thumbsdown.f7d7b42c-c32c-11ec-b219-c2e8a66ebf81.jpg -> Annotation:C:/Users/ronan/OneDrive/Bureau/Projets ML/TFODCourse/Tensorflow/workspace/images/collectedimages/thumbsdown/thumbsdown.f7d7b42c-c32c-11ec-b219-c2e8a66ebf81.xml\n",
            "Image:C:\\Users\\ronan\\OneDrive\\Bureau\\Projets ML\\TFODCourse\\Tensorflow\\workspace\\images\\collectedimages\\thumbsdown\\thumbsdown.f56df881-c32c-11ec-a46f-c2e8a66ebf81.jpg -> Annotation:C:/Users/ronan/OneDrive/Bureau/Projets ML/TFODCourse/Tensorflow/workspace/images/collectedimages/thumbsdown/thumbsdown.f56df881-c32c-11ec-a46f-c2e8a66ebf81.xml\n",
            "Image:C:\\Users\\ronan\\OneDrive\\Bureau\\Projets ML\\TFODCourse\\Tensorflow\\workspace\\images\\collectedimages\\thumbsdown\\thumbsdown.f300e4c7-c32c-11ec-820a-c2e8a66ebf81.jpg -> Annotation:C:/Users/ronan/OneDrive/Bureau/Projets ML/TFODCourse/Tensorflow/workspace/images/collectedimages/thumbsdown/thumbsdown.f300e4c7-c32c-11ec-820a-c2e8a66ebf81.xml\n",
            "Image:C:\\Users\\ronan\\OneDrive\\Bureau\\Projets ML\\TFODCourse\\Tensorflow\\workspace\\images\\collectedimages\\thumbsdown\\thumbsdown.f4379e8b-c32c-11ec-a8c4-c2e8a66ebf81.jpg -> Annotation:C:/Users/ronan/OneDrive/Bureau/Projets ML/TFODCourse/Tensorflow/workspace/images/collectedimages/thumbsdown/thumbsdown.f4379e8b-c32c-11ec-a8c4-c2e8a66ebf81.xml\n",
            "Image:C:\\Users\\ronan\\OneDrive\\Bureau\\Projets ML\\TFODCourse\\Tensorflow\\workspace\\images\\collectedimages\\thumbsup\\thumbsup.3d468ece-c32e-11ec-a49c-c2e8a66ebf81.jpg -> Annotation:C:/Users/ronan/OneDrive/Bureau/Projets ML/TFODCourse/Tensorflow/workspace/images/collectedimages/thumbsup/thumbsup.3d468ece-c32e-11ec-a49c-c2e8a66ebf81.xml\n",
            "Image:C:\\Users\\ronan\\OneDrive\\Bureau\\Projets ML\\TFODCourse\\Tensorflow\\workspace\\images\\collectedimages\\thumbsup\\thumbsup.3e79db35-c32e-11ec-80cc-c2e8a66ebf81.jpg -> Annotation:C:/Users/ronan/OneDrive/Bureau/Projets ML/TFODCourse/Tensorflow/workspace/images/collectedimages/thumbsup/thumbsup.3e79db35-c32e-11ec-80cc-c2e8a66ebf81.xml\n",
            "Image:C:\\Users\\ronan\\OneDrive\\Bureau\\Projets ML\\TFODCourse\\Tensorflow\\workspace\\images\\collectedimages\\thumbsup\\thumbsup.e91ad878-c32c-11ec-8a08-c2e8a66ebf81.jpg -> Annotation:C:/Users/ronan/OneDrive/Bureau/Projets ML/TFODCourse/Tensorflow/workspace/images/collectedimages/thumbsup/thumbsup.e91ad878-c32c-11ec-8a08-c2e8a66ebf81.xml\n",
            "Image:C:\\Users\\ronan\\OneDrive\\Bureau\\Projets ML\\TFODCourse\\Tensorflow\\workspace\\images\\collectedimages\\thumbsup\\thumbsup.ea553004-c32c-11ec-ab2b-c2e8a66ebf81.jpg -> Annotation:C:/Users/ronan/OneDrive/Bureau/Projets ML/TFODCourse/Tensorflow/workspace/images/collectedimages/thumbsup/thumbsup.ea553004-c32c-11ec-ab2b-c2e8a66ebf81.xml\n",
            "Image:C:\\Users\\ronan\\OneDrive\\Bureau\\Projets ML\\TFODCourse\\Tensorflow\\workspace\\images\\collectedimages\\thumbsup\\thumbsup.eb88e358-c32c-11ec-ae95-c2e8a66ebf81.jpg -> Annotation:C:/Users/ronan/OneDrive/Bureau/Projets ML/TFODCourse/Tensorflow/workspace/images/collectedimages/thumbsup/thumbsup.eb88e358-c32c-11ec-ae95-c2e8a66ebf81.xml\n",
            "Image:C:\\Users\\ronan\\OneDrive\\Bureau\\Projets ML\\TFODCourse\\Tensorflow\\workspace\\images\\collectedimages\\thumbsup\\thumbsup.ecbdc8b1-c32c-11ec-8ea2-c2e8a66ebf81.jpg -> Annotation:C:/Users/ronan/OneDrive/Bureau/Projets ML/TFODCourse/Tensorflow/workspace/images/collectedimages/thumbsup/thumbsup.ecbdc8b1-c32c-11ec-8ea2-c2e8a66ebf81.xml\n",
            "Image:C:\\Users\\ronan\\OneDrive\\Bureau\\Projets ML\\TFODCourse\\Tensorflow\\workspace\\images\\collectedimages\\thumbsup\\thumbsup.edf50cee-c32c-11ec-a240-c2e8a66ebf81.jpg -> Annotation:C:/Users/ronan/OneDrive/Bureau/Projets ML/TFODCourse/Tensorflow/workspace/images/collectedimages/thumbsup/thumbsup.edf50cee-c32c-11ec-a240-c2e8a66ebf81.xml\n"
          ]
        }
      ],
      "source": [
        "!cd {LABELIMG_PATH} && python labelImg.py"
      ]
    },
    {
      "cell_type": "markdown",
      "metadata": {
        "id": "KHjPSw3EswuW"
      },
      "source": [
        "# 6. Move them into a Training and Testing Partition"
      ]
    },
    {
      "cell_type": "markdown",
      "metadata": {
        "id": "999vuw7_swuX"
      },
      "source": [
        "# OPTIONAL - 7. Compress them for Colab Training"
      ]
    },
    {
      "cell_type": "code",
      "execution_count": null,
      "metadata": {
        "id": "7Q3BlfbmswuX"
      },
      "outputs": [],
      "source": [
        "TRAIN_PATH = os.path.join('Tensorflow', 'workspace', 'images', 'train')\n",
        "TEST_PATH = os.path.join('Tensorflow', 'workspace', 'images', 'test')\n",
        "ARCHIVE_PATH = os.path.join('Tensorflow', 'workspace', 'images', 'archive.tar.gz')"
      ]
    },
    {
      "cell_type": "code",
      "execution_count": null,
      "metadata": {
        "id": "wo9UJSkxswuY"
      },
      "outputs": [],
      "source": [
        "!tar -czf {ARCHIVE_PATH} {TRAIN_PATH} {TEST_PATH}"
      ]
    },
    {
      "cell_type": "code",
      "execution_count": null,
      "metadata": {
        "id": "uEifRprxswuZ"
      },
      "outputs": [],
      "source": [
        ""
      ]
    }
  ],
  "metadata": {
    "kernelspec": {
      "display_name": "tfod2",
      "language": "python",
      "name": "tfod2"
    },
    "language_info": {
      "codemirror_mode": {
        "name": "ipython",
        "version": 3
      },
      "file_extension": ".py",
      "mimetype": "text/x-python",
      "name": "python",
      "nbconvert_exporter": "python",
      "pygments_lexer": "ipython3",
      "version": "3.9.12"
    },
    "colab": {
      "name": "1. Image Collection.ipynb",
      "provenance": [],
      "collapsed_sections": [],
      "toc_visible": true,
      "include_colab_link": true
    }
  },
  "nbformat": 4,
  "nbformat_minor": 0
}